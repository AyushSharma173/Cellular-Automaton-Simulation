import numpy as np
import matplotlib.pyplot as plt
import gzip
import sys

# Function to initialize the state
def initialize_state(size=100):
    state = np.zeros((size, size))
    state[:, size // 2:] = 1
    return state

# Function to perform a single swap step
def swap_step(state, i, j):
    L = state.shape[0]

    # Choose direction for swapping
    direction = np.random.choice(4)
    if direction == 0:
        di, dj = -1, 0  # up
    elif direction == 1:
        di, dj = 1, 0   # down
    elif direction == 2:
        di, dj = 0, -1  # left
    else:
        di, dj = 0, 1   # right

    ni, nj = i + di, j + dj

    # Ensure we stay within bounds
    if 0 <= ni < L and 0 <= nj < L:
        state[i, j], state[ni, nj] = state[ni, nj], state[i, j]

# Function to calculate the entropy
def calculate_entropy(state):
    return sys.getsizeof(gzip.compress(state.tobytes()))

# Simulation parameters
L = 100  # Lattice size
num_sweeps = 10000
record_sweeps = [0, 100, 200, 400, 800, 1600, 3200, 4800, 6400, 8000]

# Initialize the state
state = initialize_state(L)

# Arrays to store snapshots and entropy values
snapshots = []
entropies = []

# Simulation loop
for sweep in range(num_sweeps):
    # Pre-generate random numbers for this sweep
    i_vals = np.random.randint(0, L, L**2)
    j_vals = np.random.randint(0, L, L**2)

    for step in range(L**2):
        swap_step(state, i_vals[step], j_vals[step])

    # Record snapshots and entropy
    if sweep in record_sweeps:
        snapshots.append(state.copy())
    entropies.append(calculate_entropy(state))

# Plot snapshots
fig, axes = plt.subplots(2, 5, figsize=(15, 6))
for ax, snapshot, sweep in zip(axes.flatten(), snapshots, record_sweeps):
    ax.matshow(snapshot, cmap='gray')
    ax.set_title(f"Sweep {sweep}")
    ax.axis('off')
plt.show()

# Plot entropy
plt.figure(figsize=(10, 6))
plt.plot(range(num_sweeps), entropies, label="Entropy")
plt.xlabel("Sweeps")
plt.ylabel("Entropy")
plt.title("Entropy vs. Sweeps")
plt.legend()
plt.show()
